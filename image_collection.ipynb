{
 "cells": [
  {
   "cell_type": "markdown",
   "metadata": {},
   "source": [
    "NOTE: Use the environment you made as your kernel."
   ]
  },
  {
   "cell_type": "markdown",
   "metadata": {},
   "source": [
    "# Importing libraries and modules"
   ]
  },
  {
   "cell_type": "code",
   "execution_count": 1,
   "metadata": {},
   "outputs": [],
   "source": [
    "import cv2 as cv # For dealing with images\n",
    "import os # For dealing with paths\n",
    "import time # For dealing with time delay\n",
    "import uuid # For creating universally unique ID"
   ]
  },
  {
   "cell_type": "markdown",
   "metadata": {},
   "source": [
    "# Storing path to the images folder"
   ]
  },
  {
   "cell_type": "code",
   "execution_count": 4,
   "metadata": {},
   "outputs": [],
   "source": [
    "path = r\"C:\\Users\\jania\\OneDrive\\Desktop\\New folder\\Images\" "
   ]
  },
  {
   "cell_type": "markdown",
   "metadata": {},
   "source": [
    "# Making a list of all the labels/ for the image"
   ]
  },
  {
   "cell_type": "code",
   "execution_count": 5,
   "metadata": {},
   "outputs": [],
   "source": [
    "labels = ['a','b','c','d'] # Types of signs for which images will be taken\n",
    "num_imgs = 20 # Number of images we will take"
   ]
  },
  {
   "cell_type": "markdown",
   "metadata": {},
   "source": [
    "# Taking Images"
   ]
  },
  {
   "cell_type": "code",
   "execution_count": 7,
   "metadata": {},
   "outputs": [
    {
     "name": "stdout",
     "output_type": "stream",
     "text": [
      "Collecting Images For: a\n",
      "Taking image 1\n",
      "Taking image 2\n",
      "Collecting Images For: b\n",
      "Taking image 1\n",
      "Taking image 2\n",
      "Collecting Images For: c\n",
      "Taking image 1\n",
      "Taking image 2\n",
      "Collecting Images For: d\n",
      "Taking image 1\n",
      "Taking image 2\n"
     ]
    }
   ],
   "source": [
    "for label in labels:\n",
    "    # Making a directory for every label\n",
    "    command = f\"mkdir {path}\\\\\"+label\n",
    "    os.system(command)\n",
    "    cap = cv.VideoCapture(0) # Initializing camera\n",
    "    print(f\"Collecting Images For: {label}\") # For us to know which label image is being taken\n",
    "    time.sleep(5) # Gives time to get into position\n",
    "    count = 1\n",
    "    \n",
    "    cv.namedWindow(\"frame\", cv.WINDOW_NORMAL) # Naming window\n",
    "    cv.setWindowProperty(\"frame\", cv.WND_PROP_TOPMOST, 1)  # Set the window to be always on top and not in background\n",
    "\n",
    "    for imgnum in range(num_imgs):\n",
    "        ret, frame = cap.read() # Opening the camera and taking images.\n",
    "        imgname = os.path.join(path,label,f\"{label}.{str(uuid.uuid1())}.jpg\") # Creating unique names\n",
    "        print(f\"Taking image {count}\")\n",
    "        count = count+1 # naming the image and adding the path to it.\n",
    "        cv.imshow(\"frame\", frame) # Shows us the images that were taken\n",
    "        success = cv.imwrite(imgname,frame)\n",
    "        time.sleep(2) # Sleep for some time to make sure we go into another angle.\n",
    "        # Stop taking images if 'd' is pressed\n",
    "        if cv.waitKey(1) & 0xFF == ord('d'):\n",
    "            print(f\"Stopping to take more images for '{label}'\")\n",
    "            break\n",
    "    cap.release() #release the capture pointer / Stop the camera\n",
    "    \n",
    "# This make sures 'kernel' doesn't crash everytime the code is run\n",
    "cv.destroyAllWindows() #Close all openCV windows for the current running label"
   ]
  }
 ],
 "metadata": {
  "kernelspec": {
   "display_name": "Python 3",
   "language": "python",
   "name": "python3"
  },
  "language_info": {
   "codemirror_mode": {
    "name": "ipython",
    "version": 3
   },
   "file_extension": ".py",
   "mimetype": "text/x-python",
   "name": "python",
   "nbconvert_exporter": "python",
   "pygments_lexer": "ipython3",
   "version": "3.9.18"
  }
 },
 "nbformat": 4,
 "nbformat_minor": 2
}
